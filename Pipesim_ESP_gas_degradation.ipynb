{
 "cells": [
  {
   "cell_type": "code",
   "execution_count": 1,
   "id": "628291f0",
   "metadata": {},
   "outputs": [
    {
     "name": "stderr",
     "output_type": "stream",
     "text": [
      "INFO:manta.server.manager:Starting PIPESIM server on thread ID: 11296\n",
      "INFO:manta.server.manager:Waiting for PIPESIM server to start.\n",
      "INFO:manta.server.manager:Python toolkit license is checked out successfully\n",
      "INFO:manta.server.manager:Waiting for PIPESIM server to start.\n",
      "INFO:manta.server.manager:Waiting for PIPESIM server to start.\n",
      "INFO:manta.server.manager:Waiting for PIPESIM server to start.\n"
     ]
    },
    {
     "name": "stdout",
     "output_type": "stream",
     "text": [
      "model open\n"
     ]
    }
   ],
   "source": [
    "#import\n",
    "from sixgill.pipesim import Model\n",
    "from sixgill.definitions import *\n",
    "from tkinter import filedialog as fd\n",
    "from tkinter import *\n",
    "import pandas as pd\n",
    "\n",
    "# путь к файлу pips\n",
    "#filename = r\"C:\\Users\\leone\\OneDrive\\_Магистратура\\3 Семестр\\ГПН\\models\\Python toolkit\\Well ESP gas degradation — копия\\5303_new.pips\"\n",
    "\n",
    "# диалоговое окно выбора файла pipesim\n",
    "root = Tk()\n",
    "root.title(\"Select PIPS model\")\n",
    "#Tk().mainloop()\n",
    "filename= fd.askopenfilename() \n",
    "root.destroy()\n",
    "\n",
    "#Connecting to the model\n",
    "model = Model.open(filename,Units.METRIC)\n",
    "print(\"model open\")\n",
    "\n",
    "#get Well and ESP name from model\n",
    "Well = model.find(component=ModelComponents.WELL)[0]\n",
    "ESP = model.find(component=ModelComponents.ESP)[0]\n",
    "pump_name = model.find_components(component=ModelComponents.ESP, Well=Well)[0]['Name']\n",
    "\n",
    "#\n",
    "\n"
   ]
  },
  {
   "cell_type": "code",
   "execution_count": 2,
   "id": "ae4082b0",
   "metadata": {},
   "outputs": [
    {
     "data": {
      "text/plain": [
       "51.0"
      ]
     },
     "execution_count": 2,
     "metadata": {},
     "output_type": "execute_result"
    }
   ],
   "source": [
    "#test model\n",
    "model.get_value(ESP,parameter = Parameters.ESP.OPERATINGFREQUENCY)"
   ]
  },
  {
   "cell_type": "code",
   "execution_count": 3,
   "id": "6f273c7c",
   "metadata": {},
   "outputs": [],
   "source": [
    "# функция рассчета коэффициента по напору  \n",
    "def calc_gas_correction(gas_fraction_in, Q_morm):\n",
    "    B = 0\n",
    "    if gas_fraction_in > 0 and gas_fraction_in < 1:\n",
    "        B = gas_fraction_in\n",
    "\n",
    "    calc_gas_correction = {\n",
    "        0:1,\n",
    "        1:-9 * B ** 2 + 0.6 * B + 1,                # SPE 117414  стандартный ЭЦН с пределом по газу 25%\n",
    "        2:-2 * B ** 2 + 0.05 * B + 1,               # SPE 117414 (исправлению по сравнению со статьей верить)  ЭЦН с газостабилизирующим модулем с пределом по газу 50%\n",
    "        3:-1.4 * B ** 2 + 0.15 * B + 1,             # SPE 117414 ЭЦН с осевым предвключенным модулем с пределом по газу 75%\n",
    "        4:-4 * B ** 2 + 0.2 * B + 1,                # SPE 117414 (исправлению по сравнению со статьей верить)   ЭЦН с газостабилизирующим модулем с пределом по газу 35%\n",
    "        5:1 + 0.4461 * B - 5.2506 * B ** 2 *Q_morm,  # собственный анализ ЭЦН + предвключенный фазопреобразователь\n",
    "        6:1 - 1.8916 * B ** 2 + 9.2057 * B * Q_morm - 22.6222* B ** 2 * Q_morm - 10.7115 * B * Q_morm ** 2      # собственный анализ ЭЦН без модулей\n",
    "    }\n",
    "    if calc_gas_correction.get(gas_correct_model) >1:\n",
    "        return 1\n",
    "    else:return calc_gas_correction.get(gas_correct_model)\n",
    "    \n"
   ]
  },
  {
   "cell_type": "code",
   "execution_count": 4,
   "id": "2960f6d6",
   "metadata": {
    "scrolled": true
   },
   "outputs": [
    {
     "name": "stdout",
     "output_type": "stream",
     "text": [
      "Running the simulation with Res h_degr=1\n"
     ]
    },
    {
     "name": "stderr",
     "output_type": "stream",
     "text": [
      "INFO:sixgill.core.run_or_start_simulation:Simulation is running.\n",
      "INFO:sixgill.core.run_or_start_simulation:Simulation is finished.\n",
      "INFO:sixgill.core.run_or_start_simulation:Simulation run successfully.\n",
      "INFO:sixgill.core.run_or_start_simulation:Simulation is running.\n"
     ]
    },
    {
     "name": "stdout",
     "output_type": "stream",
     "text": [
      "Flowrate=480.5917 sbbl/day\n",
      "ESP_INTAKE_GAS_VOLUME_FRACTION = 0.12099929664554555\n",
      "new_gas_correction =0.9767683052548438\n",
      "Running the simulation with Res h_degr=0.9922561017516146\n"
     ]
    },
    {
     "name": "stderr",
     "output_type": "stream",
     "text": [
      "INFO:sixgill.core.run_or_start_simulation:Simulation is running.\n",
      "INFO:sixgill.core.run_or_start_simulation:Simulation is running.\n",
      "INFO:sixgill.core.run_or_start_simulation:Simulation is finished.\n",
      "INFO:sixgill.core.run_or_start_simulation:Simulation run successfully.\n",
      "INFO:sixgill.core.run_or_start_simulation:Simulation is running.\n"
     ]
    },
    {
     "name": "stdout",
     "output_type": "stream",
     "text": [
      "Flowrate=477.679 sbbl/day\n",
      "ESP_INTAKE_GAS_VOLUME_FRACTION = 0.11936057609703854\n",
      "new_gas_correction =0.977474134552418\n",
      "Running the simulation with Res h_degr=0.9873287793518823\n"
     ]
    },
    {
     "name": "stderr",
     "output_type": "stream",
     "text": [
      "INFO:sixgill.core.run_or_start_simulation:Simulation is running.\n",
      "INFO:sixgill.core.run_or_start_simulation:Simulation is running.\n",
      "INFO:sixgill.core.run_or_start_simulation:Simulation is finished.\n",
      "INFO:sixgill.core.run_or_start_simulation:Simulation run successfully.\n",
      "INFO:sixgill.core.run_or_start_simulation:Simulation is running.\n"
     ]
    },
    {
     "name": "stdout",
     "output_type": "stream",
     "text": [
      "Flowrate=475.7986 sbbl/day\n",
      "ESP_INTAKE_GAS_VOLUME_FRACTION = 0.11832581425413469\n",
      "new_gas_correction =0.9779142940748987\n",
      "Running the simulation with Res h_degr=0.9841906175928878\n"
     ]
    },
    {
     "name": "stderr",
     "output_type": "stream",
     "text": [
      "INFO:sixgill.core.run_or_start_simulation:Simulation is running.\n",
      "INFO:sixgill.core.run_or_start_simulation:Simulation is running.\n",
      "INFO:sixgill.core.run_or_start_simulation:Simulation is finished.\n",
      "INFO:sixgill.core.run_or_start_simulation:Simulation run successfully.\n",
      "INFO:sixgill.core.run_or_start_simulation:Simulation is running.\n"
     ]
    },
    {
     "name": "stdout",
     "output_type": "stream",
     "text": [
      "Flowrate=474.5901 sbbl/day\n",
      "ESP_INTAKE_GAS_VOLUME_FRACTION = 0.11767014364589601\n",
      "new_gas_correction =0.9781909817710032\n",
      "Running the simulation with Res h_degr=0.982190738985593\n"
     ]
    },
    {
     "name": "stderr",
     "output_type": "stream",
     "text": [
      "INFO:sixgill.core.run_or_start_simulation:Simulation is running.\n",
      "INFO:sixgill.core.run_or_start_simulation:Simulation is running.\n",
      "INFO:sixgill.core.run_or_start_simulation:Simulation is finished.\n",
      "INFO:sixgill.core.run_or_start_simulation:Simulation run successfully.\n",
      "INFO:sixgill.core.run_or_start_simulation:Simulation is running.\n"
     ]
    },
    {
     "name": "stdout",
     "output_type": "stream",
     "text": [
      "Flowrate=473.8176 sbbl/day\n",
      "ESP_INTAKE_GAS_VOLUME_FRACTION = 0.11725481499823776\n",
      "new_gas_correction =0.9783653574693699\n",
      "Running the simulation with Res h_degr=0.9809156118135186\n"
     ]
    },
    {
     "name": "stderr",
     "output_type": "stream",
     "text": [
      "INFO:sixgill.core.run_or_start_simulation:Simulation is running.\n",
      "INFO:sixgill.core.run_or_start_simulation:Simulation is running.\n",
      "INFO:sixgill.core.run_or_start_simulation:Simulation is finished.\n",
      "INFO:sixgill.core.run_or_start_simulation:Simulation run successfully.\n",
      "INFO:sixgill.core.run_or_start_simulation:Simulation is running.\n"
     ]
    },
    {
     "name": "stdout",
     "output_type": "stream",
     "text": [
      "Flowrate=473.3228 sbbl/day\n",
      "ESP_INTAKE_GAS_VOLUME_FRACTION = 0.11699029101561786\n",
      "new_gas_correction =0.9784760581669429\n",
      "Running the simulation with Res h_degr=0.98010242726466\n"
     ]
    },
    {
     "name": "stderr",
     "output_type": "stream",
     "text": [
      "INFO:sixgill.core.run_or_start_simulation:Simulation is running.\n",
      "INFO:sixgill.core.run_or_start_simulation:Simulation is running.\n",
      "INFO:sixgill.core.run_or_start_simulation:Simulation is finished.\n",
      "INFO:sixgill.core.run_or_start_simulation:Simulation run successfully.\n",
      "INFO:sixgill.core.run_or_start_simulation:Simulation is running.\n"
     ]
    },
    {
     "name": "stdout",
     "output_type": "stream",
     "text": [
      "Flowrate=473.0054 sbbl/day\n",
      "ESP_INTAKE_GAS_VOLUME_FRACTION = 0.11682126500650758\n",
      "new_gas_correction =0.9785466473348841\n",
      "Running the simulation with Res h_degr=0.9795838339547348\n"
     ]
    },
    {
     "name": "stderr",
     "output_type": "stream",
     "text": [
      "INFO:sixgill.core.run_or_start_simulation:Simulation is running.\n",
      "INFO:sixgill.core.run_or_start_simulation:Simulation is running.\n",
      "INFO:sixgill.core.run_or_start_simulation:Simulation is finished.\n",
      "INFO:sixgill.core.run_or_start_simulation:Simulation run successfully.\n"
     ]
    },
    {
     "name": "stdout",
     "output_type": "stream",
     "text": [
      "Flowrate=472.8044 sbbl/day\n",
      "ESP_INTAKE_GAS_VOLUME_FRACTION = 0.11671445576427286\n",
      "new_gas_correction =0.9785911944195128\n",
      "Решение найдено\n",
      "                                  Unit  Flowrate=472.8044 sbbl/day\n",
      "ESPHead                              m                 2670.442468\n",
      "ESPIntakeTotalVolumetricFlowrate   L/d                67465.754898\n",
      "OutletWaterCutStockTank              %                   83.800000\n",
      "ESPIntakePressure                 bara                  107.961677\n",
      "ESPIntakeGasVolumeFraction           %                   11.671446\n",
      "ESPHeadFactor                                             1.000000\n",
      "BottomHolePressure                bara                  129.973170\n",
      "                                Unit        Cpl        ESP        Spr\n",
      "VolumeFlowrateWaterStockTank   sm3/d  62.992370  62.992370  62.992370\n",
      "VolumeFlowrateOilStockTank     sm3/d  12.177523  12.177523  12.177523\n",
      "VolumeFlowrateLiquidStockTank  sm3/d  75.169892  75.169892  75.169892\n"
     ]
    }
   ],
   "source": [
    "# результаты, которые должен вывести pipesim\n",
    "RESULT_VARIABLES = [SystemVariables.VOLUME_FLOWRATE_OIL_STOCKTANK,\n",
    "                    SystemVariables.VOLUME_FLOWRATE_WATER_STOCKTANK,\n",
    "                    SystemVariables.BOTTOM_HOLE_PRESSURE,\n",
    "                    SystemVariables.ESP_INTAKE_GAS_VOLUME_FRACTION,\n",
    "                    SystemVariables.ESP_HEAD,\n",
    "                    SystemVariables.ESP_HEAD_FACTOR,\n",
    "                    SystemVariables.ESP_INTAKE_TOTAL_VOLUMETRIC_FLOWRATE,\n",
    "                    SystemVariables.VOLUME_FLOWRATE_LIQUID_STOCKTANK,\n",
    "                    SystemVariables.OUTLET_WATER_CUT_STOCKTANK,\n",
    "                    SystemVariables.ESP_INTAKE_PRESSURE\n",
    "                    ]\n",
    "\n",
    "gas_correct_model = 2 # модель деградации \n",
    "\n",
    "#начальные значения критериев, используемых в расчете\n",
    "gas_correction = 1\n",
    "delta_gas_correction = 1\n",
    "\n",
    "while delta_gas_correction >= 0.001:\n",
    "    \n",
    "    esp_motor_params = {\n",
    "        ESP: {\n",
    "            Parameters.ESP.HEADFACTOR:gas_correction\n",
    "        }\n",
    "    }\n",
    "    \n",
    "    model.set_values(esp_motor_params)\n",
    "        \n",
    "    \n",
    "    # Run the model\n",
    "    print(\"Running the simulation with Res h_degr={}\".format(gas_correction))\n",
    "    results = model.tasks.ptprofilesimulation.run(Well,profile_variables=[], system_variables=RESULT_VARIABLES)\n",
    "    \n",
    "    case = results.cases[0]\n",
    "    print(results.cases[0])\n",
    "    \n",
    "    #максимальный расход по характеристике (Нужно добавить экстраполяцию до H=0)\n",
    "    esp_results = results.esp_curves[results.cases[0]]\n",
    "    Q_max = max(esp_results[pump_name][EspCurvesVariables.VARIABLEPERFORMANCECURVE][EspCurvesVariables.FLOWRATE][EspCurvesVariables.VALUES])\n",
    "    \n",
    "    # газосодержание и объемный расход на входе в ЭЦН\n",
    "    B = results.system[SystemVariables.ESP_INTAKE_GAS_VOLUME_FRACTION][case] / 100\n",
    "    Q = results.system[SystemVariables.ESP_INTAKE_TOTAL_VOLUMETRIC_FLOWRATE][case]\n",
    "    # отношение подачи ЭЦН к подаче при нулевом напоре\n",
    "    Q_norm = Q / (Q_max*1000) # ESP_INTAKE_TOTAL_VOLUMETRIC_FLOWRATE выводится в размерности l/d, а  max Q ЭЦН в m3/d (for Units.METRIC)\n",
    "\n",
    "    new_gas_correction = calc_gas_correction(B, Q_norm)\n",
    "    delta_gas_correction = abs(new_gas_correction - gas_correction)\n",
    "    \n",
    "    if new_gas_correction >= 0.11:\n",
    "        gas_correction = (new_gas_correction + gas_correction * 2) / 3\n",
    "    else:\n",
    "        gas_correction = (0.11 + gas_correction * 2) / 3\n",
    "    print(\"ESP_INTAKE_GAS_VOLUME_FRACTION = {}\".format(B))\n",
    "    print(\"new_gas_correction ={}\".format(new_gas_correction))\n",
    "\n",
    "#Вывод результатов расчета\n",
    "print(\"Решение найдено\")\n",
    "df = pd.DataFrame.from_dict(results.node[case], orient='index')\n",
    "ds = pd.DataFrame.from_dict(results.system, orient='index')\n",
    "print(ds.iloc[::])\n",
    "print(df)\n"
   ]
  }
 ],
 "metadata": {
  "kernelspec": {
   "display_name": "Python 3 (ipykernel)",
   "language": "python",
   "name": "python3"
  },
  "language_info": {
   "codemirror_mode": {
    "name": "ipython",
    "version": 3
   },
   "file_extension": ".py",
   "mimetype": "text/x-python",
   "name": "python",
   "nbconvert_exporter": "python",
   "pygments_lexer": "ipython3",
   "version": "3.8.12"
  }
 },
 "nbformat": 4,
 "nbformat_minor": 5
}
